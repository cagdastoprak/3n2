{
  "nbformat": 4,
  "nbformat_minor": 0,
  "metadata": {
    "colab": {
      "name": "Hw3n2DataJarLabs.ipynb",
      "provenance": []
    },
    "kernelspec": {
      "name": "python3",
      "display_name": "Python 3"
    }
  },
  "cells": [
    {
      "cell_type": "code",
      "metadata": {
        "id": "LLRM-LTfSGiX",
        "colab_type": "code",
        "colab": {}
      },
      "source": [
        "PA=0.40  #Rastgele seçilen bir bozuk bir bilgisayarın B şirketi tarafından üretilme olasılığı nedir?\n",
        "PB=0.40 \n",
        "PC=0.20\n",
        "PDA=0.015\n",
        "PDB=0.020\n",
        "PDC=0.010"
      ],
      "execution_count": 0,
      "outputs": []
    },
    {
      "cell_type": "code",
      "metadata": {
        "id": "MfDdyJ0rSo89",
        "colab_type": "code",
        "colab": {
          "base_uri": "https://localhost:8080/",
          "height": 34
        },
        "outputId": "96dfcb93-0011-4024-9172-dcfae66b8142"
      },
      "source": [
        "print('sonuc :',PB*PDB/(PDA+PDB+PDC)) #Tüm bozuk olma ihtimalleri vs Rastgele Seçtiğin bilgisayarın hem bozuk hem de B den alınmış olma ihtimali hesabını şöyle yaptım\n"
      ],
      "execution_count": 4,
      "outputs": [
        {
          "output_type": "stream",
          "text": [
            "sonuc : 0.17777777777777776\n"
          ],
          "name": "stdout"
        }
      ]
    }
  ]
}